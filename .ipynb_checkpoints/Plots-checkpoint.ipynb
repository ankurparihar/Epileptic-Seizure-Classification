{
 "cells": [
  {
   "cell_type": "code",
   "execution_count": null,
   "metadata": {},
   "outputs": [],
   "source": [
    "import math\n",
    "import random\n",
    "import matplotlib.pyplot as plt\n",
    "import numpy as np\n",
    "from pulseNet import pulseNet"
   ]
  },
  {
   "cell_type": "code",
   "execution_count": null,
   "metadata": {},
   "outputs": [],
   "source": [
    "def plot_graph(x_data, y_data, title):\n",
    "    plt.plot(x_data, y_data)\n",
    "    plt.xlabel('x')\n",
    "    plt.ylabel('y')\n",
    "    plt.title(title)\n",
    "    plt.show()"
   ]
  },
  {
   "cell_type": "code",
   "execution_count": null,
   "metadata": {},
   "outputs": [],
   "source": [
    "# ---------------- Shifted waves ---------------- #"
   ]
  },
  {
   "cell_type": "code",
   "execution_count": null,
   "metadata": {},
   "outputs": [],
   "source": [
    "x = list(range(1800))\n",
    "Y = []"
   ]
  },
  {
   "cell_type": "code",
   "execution_count": null,
   "metadata": {},
   "outputs": [],
   "source": [
    "y = [math.sin(math.pi*p/180) for p in x]\n",
    "plot_graph(x,y,'y=sin(x)')\n",
    "Y.append(y)"
   ]
  },
  {
   "cell_type": "code",
   "execution_count": null,
   "metadata": {},
   "outputs": [],
   "source": [
    "y = [math.cos(math.pi*p/180) for p in x]\n",
    "plot_graph(x,y,'y=cos(x)')\n",
    "Y.append(y)"
   ]
  },
  {
   "cell_type": "code",
   "execution_count": null,
   "metadata": {},
   "outputs": [],
   "source": [
    "y = [max(-10,min(10,math.tan(math.pi*p/180))) for p in x]\n",
    "plot_graph(x,y,'y=tan(x)')\n",
    "Y.append(y)"
   ]
  },
  {
   "cell_type": "code",
   "execution_count": null,
   "metadata": {},
   "outputs": [],
   "source": [
    "model = pulseNet(pos_lim=0.8, neg_lim=-0.8, pulse_len=4)\n",
    "model.transform_pulse(Y)\n",
    "matrix = np.asarray(model.pulses_to_matrix(), dtype=np.ndarray)"
   ]
  },
  {
   "cell_type": "code",
   "execution_count": null,
   "metadata": {},
   "outputs": [],
   "source": [
    "model.plot_matrix(matrix[0])\n",
    "model.plot_matrix(matrix[1])\n",
    "model.plot_matrix(matrix[2])"
   ]
  },
  {
   "cell_type": "code",
   "execution_count": null,
   "metadata": {},
   "outputs": [],
   "source": [
    "# ---------------- Wave contraction and strechiness ---------------- #"
   ]
  },
  {
   "cell_type": "code",
   "execution_count": null,
   "metadata": {},
   "outputs": [],
   "source": [
    "x = list(range(1800))\n",
    "Y = []"
   ]
  },
  {
   "cell_type": "code",
   "execution_count": null,
   "metadata": {},
   "outputs": [],
   "source": [
    "y = [math.sin(math.pi*p/540) for p in x]\n",
    "plot_graph(x,y,'y=sin(x/3)')\n",
    "Y.append(y)"
   ]
  },
  {
   "cell_type": "code",
   "execution_count": null,
   "metadata": {},
   "outputs": [],
   "source": [
    "y = [math.sin(math.pi*p/60) for p in x]\n",
    "plot_graph(x,y,'y=sin(3x)')\n",
    "Y.append(y)"
   ]
  },
  {
   "cell_type": "code",
   "execution_count": null,
   "metadata": {},
   "outputs": [],
   "source": [
    "model = pulseNet(pos_lim=0.5, neg_lim=-0.5, pulse_len=4)\n",
    "model.transform_pulse(Y)\n",
    "matrix = np.asarray(model.pulses_to_matrix(), dtype=np.ndarray)"
   ]
  },
  {
   "cell_type": "code",
   "execution_count": null,
   "metadata": {},
   "outputs": [],
   "source": [
    "len(matrix)\n",
    "model.plot_matrix(matrix[0])\n",
    "model.plot_matrix(matrix[1])"
   ]
  },
  {
   "cell_type": "code",
   "execution_count": null,
   "metadata": {},
   "outputs": [],
   "source": [
    "# ---------------- Wave repeatation ---------------- #"
   ]
  },
  {
   "cell_type": "code",
   "execution_count": null,
   "metadata": {},
   "outputs": [],
   "source": [
    "x = list(range(720))\n",
    "Y = []"
   ]
  },
  {
   "cell_type": "code",
   "execution_count": null,
   "metadata": {},
   "outputs": [],
   "source": [
    "y = [math.sin(math.pi*p/180) for p in x]\n",
    "plot_graph(x,y,'y=sin(x)')\n",
    "Y.append(y)"
   ]
  },
  {
   "cell_type": "code",
   "execution_count": null,
   "metadata": {},
   "outputs": [],
   "source": [
    "model = pulseNet(pos_lim=0.5, neg_lim=-0.5, pulse_len=4)\n",
    "model.transform_pulse(Y)\n",
    "matrix = np.asarray(model.pulses_to_matrix(), dtype=np.ndarray)\n",
    "model.plot_matrix(matrix[0])"
   ]
  },
  {
   "cell_type": "code",
   "execution_count": null,
   "metadata": {},
   "outputs": [],
   "source": [
    "x = list(range(1440))\n",
    "Y = []"
   ]
  },
  {
   "cell_type": "code",
   "execution_count": null,
   "metadata": {},
   "outputs": [],
   "source": [
    "y = [math.sin(math.pi*p/180) for p in x]\n",
    "plot_graph(x,y,'y=sin(x)')\n",
    "Y.append(y)"
   ]
  },
  {
   "cell_type": "code",
   "execution_count": null,
   "metadata": {},
   "outputs": [],
   "source": [
    "model = pulseNet(pos_lim=0.5, neg_lim=-0.5, pulse_len=4)\n",
    "model.transform_pulse(Y)\n",
    "matrix = np.asarray(model.pulses_to_matrix(), dtype=np.ndarray)\n",
    "model.plot_matrix(matrix[0])"
   ]
  }
 ],
 "metadata": {
  "kernelspec": {
   "display_name": "Python 3",
   "language": "python",
   "name": "python3"
  },
  "language_info": {
   "codemirror_mode": {
    "name": "ipython",
    "version": 3
   },
   "file_extension": ".py",
   "mimetype": "text/x-python",
   "name": "python",
   "nbconvert_exporter": "python",
   "pygments_lexer": "ipython3",
   "version": "3.5.2"
  }
 },
 "nbformat": 4,
 "nbformat_minor": 2
}
